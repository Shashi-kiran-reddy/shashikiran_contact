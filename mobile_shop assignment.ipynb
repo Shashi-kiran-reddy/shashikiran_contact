{
 "cells": [
  {
   "cell_type": "code",
   "execution_count": 44,
   "id": "e3d326b2",
   "metadata": {},
   "outputs": [
    {
     "name": "stdout",
     "output_type": "stream",
     "text": [
      "congratulations on the purchase of samsung j2\n"
     ]
    }
   ],
   "source": [
    "class Mobile_phone:\n",
    "    def __init__(self,name,model,price):\n",
    "        self.name = name\n",
    "        self.model = model\n",
    "        self.price = price\n",
    "obj1 = Mobile_phone('samsung','j2',12000)\n",
    "obj2 = Mobile_phone('samsung','j23',12040)\n",
    "obj3 = Mobile_phone('samsung','j56',12020)\n",
    "obj4 = Mobile_phone('Apple','i10',120010)\n",
    "obj5 = Mobile_phone('Apple','i11',120200)\n",
    "obj6 = Mobile_phone('Apple','i12',121000)\n",
    "obj7 = Mobile_phone('mi','m34',18000)\n",
    "obj8 = Mobile_phone('mi','m35',18050)\n",
    "obj9 = Mobile_phone('mi','m36',18100)\n",
    "lis = [obj1,obj2,obj3,obj4,obj5,obj6,obj7,obj8,obj9]\n",
    "samsung_count = 0\n",
    "apple_count = 0\n",
    "mi_count = 0\n",
    "j = 0\n",
    "for i in lis:\n",
    "    if lis[j].name == 'samsung':\n",
    "        global samsung_count\n",
    "        samsung_count = samsung_count+1\n",
    "    elif lis[j].name == 'Apple':\n",
    "        global apple_count\n",
    "        apple_count = apple_count+1\n",
    "    elif lis[j].name == 'mi':\n",
    "        global mi_count\n",
    "        mi_count = mi_count+1\n",
    "    j = j+1\n",
    "o = 0\n",
    "l = 0\n",
    "t = 0\n",
    "def details(name):\n",
    "    if name == 'samsung':\n",
    "        print(\"no of \" + name + ' available are:',samsung_count)\n",
    "        global o\n",
    "        for k in lis:\n",
    "            if lis[o].name == 'samsung':\n",
    "                print(lis[o].name,lis[o].model,lis[o].price)\n",
    "            o = o+1\n",
    "    elif name == 'Apple':\n",
    "        print(\"no of \" + name + ' available are: ',apple_count)\n",
    "        global l\n",
    "        for ke in lis:\n",
    "            if lis[l].name == 'Apple':\n",
    "                print(lis[l].name,lis[l].model,lis[l].price)\n",
    "            l = l+1\n",
    "    elif name == 'mi':\n",
    "        print(\"no of \" + name + ' available are: ',mi_count)\n",
    "        global t\n",
    "        for kee in lis:\n",
    "            if lis[t].name == 'mi':\n",
    "                print(lis[t].name,lis[t].model,lis[t].price)\n",
    "            t = t+1\n",
    "p = 0   \n",
    "def purchase(name,model):\n",
    "    for tg in lis:\n",
    "        global p\n",
    "        if lis[p].name == name and lis[p].model == model:\n",
    "            print(\"congratulations on the purchase of \" + name + \" \" + model)\n",
    "            del lis[p]\n",
    "        p = p+1\n",
    "purchase('samsung','j2')"
   ]
  },
  {
   "cell_type": "code",
   "execution_count": null,
   "id": "5b9c63fb",
   "metadata": {},
   "outputs": [],
   "source": []
  }
 ],
 "metadata": {
  "kernelspec": {
   "display_name": "Python 3 (ipykernel)",
   "language": "python",
   "name": "python3"
  },
  "language_info": {
   "codemirror_mode": {
    "name": "ipython",
    "version": 3
   },
   "file_extension": ".py",
   "mimetype": "text/x-python",
   "name": "python",
   "nbconvert_exporter": "python",
   "pygments_lexer": "ipython3",
   "version": "3.8.10"
  }
 },
 "nbformat": 4,
 "nbformat_minor": 5
}
