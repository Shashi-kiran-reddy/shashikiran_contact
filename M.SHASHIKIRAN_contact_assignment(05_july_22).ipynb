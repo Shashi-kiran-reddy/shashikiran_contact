{
 "cells": [
  {
   "cell_type": "code",
   "execution_count": null,
   "id": "80b369e9",
   "metadata": {},
   "outputs": [],
   "source": [
    "#contact sample \n",
    "#done by M.Shashi kiran\n",
    "create_contact = {}\n",
    "\n",
    "def save_contact(i,j):\n",
    "    global create_contact\n",
    "    create_contact[i] = j\n",
    "save_contact(\"shashi\",9121836914)\n",
    "save_contact(\"vamshi\",9014635640)\n",
    "print(create_contact)        \n",
    "def delete_contact(i):\n",
    "    global create_contact\n",
    "    del create_contact[i]  \n",
    "delete_contact('shashi')   \n",
    "print(create_contact)\n"
   ]
  },
  {
   "cell_type": "code",
   "execution_count": 2,
   "id": "8e740f2a",
   "metadata": {},
   "outputs": [
    {
     "name": "stdout",
     "output_type": "stream",
     "text": [
      "enter 1 to save the contact\n",
      "enter 2 to delete the contact\n",
      "2\n",
      "enter the name of the person who u wanna delete\n",
      "shashi\n",
      "{}\n"
     ]
    }
   ],
   "source": [
    "# updated\n",
    "#done by M.Shashi kiran\n",
    "memory = {\"shashi\": 9121836914,\"vamshi\": 9014635640,\"bhavesh\":1234}\n",
    "def save_contact(per,num):\n",
    "    global memory\n",
    "    memory[per] = num\n",
    "def delete_contact(per):\n",
    "    global memory\n",
    "    del memory[per]\n",
    "print(\"enter 1 to save the contact\")\n",
    "print(\"enter 2 to delete the contact\")\n",
    "a = int(input())\n",
    "if a == 1:\n",
    "    print(\"enter the name of the person\")\n",
    "    person = input()\n",
    "    print(\"enter the mobile number of \",person)\n",
    "    number = int(input())\n",
    "    save_contact(person,number)\n",
    "elif a == 2:\n",
    "    print(\"enter the name of the person who u wanna delete\")\n",
    "    k = input()\n",
    "    delete_contact(k)\n",
    "else:\n",
    "    print(\"enter either 1 or 2\")\n",
    "print(memory)    "
   ]
  },
  {
   "cell_type": "code",
   "execution_count": null,
   "id": "70116e0d",
   "metadata": {},
   "outputs": [],
   "source": []
  }
 ],
 "metadata": {
  "kernelspec": {
   "display_name": "Python 3 (ipykernel)",
   "language": "python",
   "name": "python3"
  },
  "language_info": {
   "codemirror_mode": {
    "name": "ipython",
    "version": 3
   },
   "file_extension": ".py",
   "mimetype": "text/x-python",
   "name": "python",
   "nbconvert_exporter": "python",
   "pygments_lexer": "ipython3",
   "version": "3.8.10"
  }
 },
 "nbformat": 4,
 "nbformat_minor": 5
}
