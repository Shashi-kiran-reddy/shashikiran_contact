{
 "cells": [
  {
   "cell_type": "code",
   "execution_count": null,
   "id": "8dcb9ada",
   "metadata": {},
   "outputs": [],
   "source": [
    "import random\n",
    "li = ['sdsf','ehd','hueei','jdieu','ejd','ej','sdhch',str(random.randint(7,888889))]\n",
    "n = int(input(\"enter the digit:\"))\n",
    "while(True):\n",
    "    p = random.choice(li)\n",
    "    k = str(random.randint(1,10000))\n",
    "    if(len(p+k) == n):\n",
    "        print(p+k)\n",
    "        break\n"
   ]
  }
 ],
 "metadata": {
  "kernelspec": {
   "display_name": "Python 3 (ipykernel)",
   "language": "python",
   "name": "python3"
  },
  "language_info": {
   "codemirror_mode": {
    "name": "ipython",
    "version": 3
   },
   "file_extension": ".py",
   "mimetype": "text/x-python",
   "name": "python",
   "nbconvert_exporter": "python",
   "pygments_lexer": "ipython3",
   "version": "3.8.10"
  }
 },
 "nbformat": 4,
 "nbformat_minor": 5
}
