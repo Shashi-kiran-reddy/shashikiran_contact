{
 "cells": [
  {
   "cell_type": "code",
   "execution_count": 1,
   "id": "160c9037",
   "metadata": {},
   "outputs": [
    {
     "name": "stdout",
     "output_type": "stream",
     "text": [
      "shashi 5.7\n",
      "keerthi 5.9\n",
      "radhika 6.0\n"
     ]
    }
   ],
   "source": [
    "class Student:\n",
    "    def __init__(self,name,height):\n",
    "        self.name = name\n",
    "        self.height = height\n",
    "student_1 = Student(\"shashi\",5.7)\n",
    "student_2 = Student(\"keerthi\",5.9)\n",
    "student_3 = Student(\"radhika\",6.0)\n",
    "print(student_1.name,student_1.height)\n",
    "print(student_2.name,student_2.height)\n",
    "print(student_3.name,student_3.height)"
   ]
  },
  {
   "cell_type": "code",
   "execution_count": null,
   "id": "cf086e4a",
   "metadata": {},
   "outputs": [],
   "source": []
  }
 ],
 "metadata": {
  "kernelspec": {
   "display_name": "Python 3 (ipykernel)",
   "language": "python",
   "name": "python3"
  },
  "language_info": {
   "codemirror_mode": {
    "name": "ipython",
    "version": 3
   },
   "file_extension": ".py",
   "mimetype": "text/x-python",
   "name": "python",
   "nbconvert_exporter": "python",
   "pygments_lexer": "ipython3",
   "version": "3.8.10"
  }
 },
 "nbformat": 4,
 "nbformat_minor": 5
}
